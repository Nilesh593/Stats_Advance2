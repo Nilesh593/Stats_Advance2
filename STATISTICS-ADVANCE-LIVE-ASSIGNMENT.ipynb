{
  "metadata": {
    "kernelspec": {
      "name": "python",
      "display_name": "Python (Pyodide)",
      "language": "python"
    },
    "language_info": {
      "codemirror_mode": {
        "name": "python",
        "version": 3
      },
      "file_extension": ".py",
      "mimetype": "text/x-python",
      "name": "python",
      "nbconvert_exporter": "python",
      "pygments_lexer": "ipython3",
      "version": "3.8"
    }
  },
  "nbformat_minor": 4,
  "nbformat": 4,
  "cells": [
    {
      "cell_type": "markdown",
      "source": "#1-Expalin the properties of the F-distribution. ",
      "metadata": {}
    },
    {
      "cell_type": "code",
      "source": "#ANS-Properties of the F-distribution:The F-distribution is used in analysis of variance and hypothesis testing and has the following properties.\n#Positive Skewed:The distribution is not symmetric,skewed to the right.\n#Non-negative Values:The F-distribution only takes values greater than or equal to zero.\n#Dependent on Degrees of Freedom:Its shape is determined by two sets of degrees of freedom:one for the numerator and one for the denominator.\n#Mean:The mean of the F-distribution is approximately 1 when the degrees of freedom in the numeartor and denominator are equal.\n#Relation to Chi-Squared Distribution: The F-distribution can be derived from the ratio of two scaled chi-squared distribution.specifically,if X and Y are independent\n#chi-squared variables with d1 and d2 degrees of freedom,respectively,the the ratio X/d1/Y/d2 follows an F-distribution.\n#Critical values:F-distribution tables or softwareare often used to find critical values for hypothesis testing.The critical value depends on the significance level(alpha) and the degrees of freedom.",
      "metadata": {
        "trusted": true
      },
      "outputs": [],
      "execution_count": 1
    },
    {
      "cell_type": "markdown",
      "source": "#2-In which types of statistical tests is the F-distribution used,and why is it appropriate for these tests?",
      "metadata": {}
    },
    {
      "cell_type": "code",
      "source": "#ANS-The F-distribution is primarily used in several types of statistical tests, particularly those involving comparisons of variances or means across multiple groups.\n#Here are the main contexts in which it is used:\n#1-ANOVA (Analysis of Variance):\n#Purpose: ANOVA tests whether there are statistically significant differences between the means of three or more groups.\n#Appropriateness: It compares the variance between group means to the variance within the groups. The ratio of these variances follows an F-distribution under the null hypothesis that all group means are equal.\n\n#2-Regression Analysis:\n\n#Purpose: In multiple regression, the F-test is used to determine if at least one predictor variable has a non-zero coefficient, indicating a significant relationship with the response variable.\n#Appropriateness: The F-statistic is the ratio of the explained variance (due to the regression model) to the unexplained variance (error). This ratio follows an F-distribution.\n\n#3-Comparing Variances:\n#Purpose: Tests like Bartlett's test and Levene's test evaluate the equality of variances across different groups.\n#Appropriateness: The F-distribution is used to assess the ratio of variances, as the test statistics for these tests are derived from variances of different groups.\n\n#4-Nested Models:\n\n#Purpose: When comparing nested models in regression, an F-test can determine if the more complex model significantly improves the fit.\n#Appropriateness: The F-statistic assesses the improvement in variance explained by the additional parameters in the more complex model compared to the simpler model.\n\n#5-Quality Control:\n#Purpose: In control charts and process variability assessments, the F-test can compare variances from different production processes or groups.\n#Appropriateness: This helps determine if process changes or conditions result in significant differences in variability.\n# The F-distribution is appropriate because it tests hypotheses that involve comparing variances,and variance naturally takes non-negative values.",
      "metadata": {
        "trusted": true
      },
      "outputs": [],
      "execution_count": 2
    },
    {
      "cell_type": "markdown",
      "source": "#3-What are the key assumptions required for conducting an F-test to compare the variances of two populations.",
      "metadata": {}
    },
    {
      "cell_type": "code",
      "source": "#ANS-When conducting an F-test to compare the variances of two populations, several key assumptions must be met to ensure the validity of the test results. These assumptions include:\n\n#1-Independence:\n#The samples drawn from the two populations must be independent of each other\n#This means that the selection of one sample does not influence the selection of the other.\n\n#2-Normality:\n#Both populations should be normally distributed\n#While the F-test is somewhat robust to violations of normality, especially with large sample sizes,\n#significant deviations from normality can affect the results, particularly with smaller samples.\n\n#3-Homogeneity of Variance (this is what you are testing):\n#The variances of the two populations being compared should be approximately equal under the null hypothesis.\n#The F-test specifically evaluates this assumption by comparing the ratio of the sample variances.\n\n#4-Random Sampling:\n#The samples should be randomly selected from their respective populations.\n#This helps ensure that the samples are representative and that the results can be generalized.",
      "metadata": {
        "trusted": true
      },
      "outputs": [],
      "execution_count": 3
    },
    {
      "cell_type": "markdown",
      "source": "#4-What is the purpose of ANNOVA,and how does it differ from a t-test? ",
      "metadata": {}
    },
    {
      "cell_type": "code",
      "source": "#ANS-Purpose of ANOVA\n#ANOVA (Analysis of Variance) is a statistical method used to compare the means of three or more groups to determine,\n#if there are any statistically significant differences among them.\n#The main purposes of ANOVA are:\n\n#1-Testing for Differences: ANOVA assesses whether at least one group mean is different from the others,\n#helping to identify which treatments or conditions have varying effects.\n\n#2-Controlling Type I Error: When comparing multiple groups, using multiple t-tests increases the risk of Type I error (incorrectly rejecting the null hypothesis).\n#ANOVA controls for this by evaluating all group means simultaneously.\n\n#3-Understanding Variance: ANOVA partitions the total variance observed in the data into variance due to group differences and variance due to random error,\n#providing insights into the sources of variability.\n\n#  Differences Between ANOVA and t-Test\n# 1-Number of Groups:\n#--ANOVA: Used when comparing three or more groups.\n#--t-Test: Typically used when comparing the means of two groups.\n\n# 2-Hypotheses:\n#--ANOVA: Tests the null hypothesis that all group means are equal.\n#--t-Test: Tests the null hypothesis that two group means are equal.\n\n# 3-Control of Type I Error:\n#ANOVA: Controls for Type I error across multiple comparisons by providing a single test for all groups.\n#t-Test: If multiple t-tests are performed, the risk of Type I error increases unless adjustments (like the Bonferroni correction) are made.\n\n# 4-Output:\n#ANOVA: Provides an F-statistic to evaluate variance between groups relative to variance within groups.\n#t-Test: Provides a t-statistic to evaluate the difference between two means.",
      "metadata": {
        "trusted": true
      },
      "outputs": [],
      "execution_count": 4
    },
    {
      "cell_type": "markdown",
      "source": "#5-Explain when and why you would use a one-way ANNOVA instead of multiple t-tests when comparing more than two groups.  ",
      "metadata": {}
    },
    {
      "cell_type": "code",
      "source": "#ANS-Using a one-way ANOVA instead of multiple t-tests when comparing more than two groups is recommended for several important reasons:\n#--When to Use One-Way ANOVA:\n#1-Comparing Three or More Groups: One-way ANOVA is appropriate when you have three or more groups to compare.\n#-If you want to assess differences in means across these groups, ANOVA is the suitable choice.\n\n#--Why Use One-Way ANOVA Instead of Multiple t-Tests\n#1-Control of Type I Error Rate:\n#--Multiple Comparisons Problem: Each t-test carries a risk of making a Type I error (rejecting a true null hypothesis).\n#-When conducting multiple t-tests, the cumulative probability of incorrectly rejecting at least one null hypothesis increases.\n#-One-way ANOVA maintains the overall Type I error rate at the desired significance level (e.g., 0.05).\n#2-Efficiency:\n#-Single Test: One-way ANOVA allows you to compare all group means simultaneously in a single test. This is more efficient than performing multiple t-tests,\n#-which require separate calculations and adjustments.\n#-3-Variability Assessment:\n#-Partitioning Variance: One-way ANOVA provides a comprehensive analysis by partitioning total variance into variance between groups and within groups.\n#-This helps in understanding the sources of variability more clearly.\n#4-Overall Hypothesis Testing:\n#-General Null Hypothesis: One-way ANOVA tests the null hypothesis that all group means are equal. If the null is rejected,\n#-you can then follow up with post-hoc tests to determine which specific groups differ, providing a structured approach to hypothesis testing.\n#5-Post-Hoc Testing:\n#Follow-Up Analysis: If the one-way ANOVA indicates significant differences, you can conduct post-hoc tests (e.g., Tukey’s HSD, Bonferroni)\n#to determine which pairs of groups differ, rather than making multiple pairwise comparisons directly.",
      "metadata": {
        "trusted": true
      },
      "outputs": [],
      "execution_count": 5
    },
    {
      "cell_type": "markdown",
      "source": "#Explain how variance is partitioned in ANNOVA into-between-group variance and within-group variance.How does this partitioning contribute to the calculation of the F-statistic?",
      "metadata": {}
    },
    {
      "cell_type": "code",
      "source": "#ANS-",
      "metadata": {
        "trusted": true
      },
      "outputs": [],
      "execution_count": null
    }
  ]
}